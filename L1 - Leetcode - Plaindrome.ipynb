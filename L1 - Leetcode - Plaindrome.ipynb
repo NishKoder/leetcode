{
  "nbformat": 4,
  "nbformat_minor": 0,
  "metadata": {
    "colab": {
      "provenance": [],
      "authorship_tag": "ABX9TyNBJtCuNsT4jdCpQZU/KcuQ",
      "include_colab_link": true
    },
    "kernelspec": {
      "name": "python3",
      "display_name": "Python 3"
    },
    "language_info": {
      "name": "python"
    }
  },
  "cells": [
    {
      "cell_type": "markdown",
      "metadata": {
        "id": "view-in-github",
        "colab_type": "text"
      },
      "source": [
        "<a href=\"https://colab.research.google.com/github/NishKoder/leetcode/blob/main/Leetcode.ipynb\" target=\"_parent\"><img src=\"https://colab.research.google.com/assets/colab-badge.svg\" alt=\"Open In Colab\"/></a>"
      ]
    },
    {
      "cell_type": "markdown",
      "source": [
        "# Leetcode - 125. Valid Palindrome\n",
        "\n",
        "A phrase is a palindrome if, after converting all uppercase letters into lowercase letters and removing all non-alphanumeric characters, it reads the same forward and backward. Alphanumeric characters include letters and numbers.\n",
        "\n",
        "Given a string s, return true if it is a palindrome, or false otherwise.\n",
        "\n",
        "\n",
        "\n",
        "Example 1:\n",
        "\n",
        "Input: s = \"A man, a plan, a canal: Panama\"\n",
        "Output: true\n",
        "Explanation: \"amanaplanacanalpanama\" is a palindrome.\n",
        "Example 2:\n",
        "\n",
        "Input: s = \"race a car\"\n",
        "Output: false\n",
        "Explanation: \"raceacar\" is not a palindrome.\n",
        "Example 3:\n",
        "\n",
        "Input: s = \" \"\n",
        "Output: true\n",
        "Explanation: s is an empty string \"\" after removing non-alphanumeric characters.\n",
        "Since an empty string reads the same forward and backward, it is a palindrome."
      ],
      "metadata": {
        "id": "uyFCjjenrZ2E"
      }
    },
    {
      "cell_type": "code",
      "execution_count": null,
      "metadata": {
        "id": "pNxqw37cDR6Y"
      },
      "outputs": [],
      "source": [
        "import re\n",
        "def is_palindrome(word):\n",
        "  word = re.sub(r'[^a-zA-Z0-9]', '', word.lower())\n",
        "  front = 0\n",
        "  rear = len(word) - 1\n",
        "  while front < rear:\n",
        "    if word[front] != word[rear]:\n",
        "      return False\n",
        "    front += 1\n",
        "    rear -= 1\n",
        "  return True"
      ]
    },
    {
      "cell_type": "markdown",
      "source": [],
      "metadata": {
        "id": "AUShLeXZrX3r"
      }
    },
    {
      "cell_type": "code",
      "source": [
        "is_palindrome(\"nishant\")"
      ],
      "metadata": {
        "colab": {
          "base_uri": "https://localhost:8080/"
        },
        "id": "qQrLegwonHKf",
        "outputId": "5990c03a-07bc-4f77-ec2d-69d6c8be386c"
      },
      "execution_count": null,
      "outputs": [
        {
          "output_type": "execute_result",
          "data": {
            "text/plain": [
              "False"
            ]
          },
          "metadata": {},
          "execution_count": 16
        }
      ]
    },
    {
      "cell_type": "code",
      "source": [],
      "metadata": {
        "id": "PK1TpjFBnJkn"
      },
      "execution_count": null,
      "outputs": []
    }
  ]
}
